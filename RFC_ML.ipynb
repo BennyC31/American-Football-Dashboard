{
 "cells": [
  {
   "cell_type": "markdown",
   "metadata": {},
   "source": [
    "<h1 style='text-align: center;'> American Football Machine Learning </h1>\n",
    "<h2 style='text-align: center;'> Training Years: 2013 - 2021 </h2>\n",
    "<h2 style='text-align: center;'> Testing Year: 2022 </h2>"
   ]
  },
  {
   "cell_type": "markdown",
   "metadata": {},
   "source": [
    "<ul>\n",
    "    <li>Random Forest Classifier (100 trees)</li>\n",
    "    <li>Target: Win/Loss/Tie</li>\n",
    "    <li>Features: 30+</li>\n",
    "</ul>"
   ]
  },
  {
   "cell_type": "code",
   "execution_count": 1,
   "metadata": {},
   "outputs": [
    {
     "name": "stdout",
     "output_type": "stream",
     "text": [
      "Evaluation Metrics for Random Forest Classifier:\n",
      "Accuracy: 0.8628865979381444\n",
      "Precision: 0.8629309966991516\n",
      "Recall: 0.8628865979381444\n",
      "F1 Score: 0.8628858693083868\n",
      "Confusion Matrix:\n",
      "[[419  64]\n",
      " [ 69 418]]\n"
     ]
    },
    {
     "data": {
      "text/plain": [
       "['./data/rf_model_100_trees.pkl']"
      ]
     },
     "execution_count": 1,
     "metadata": {},
     "output_type": "execute_result"
    }
   ],
   "source": [
    "import warnings\n",
    "warnings.filterwarnings('ignore')\n",
    "import pandas as pd\n",
    "from sklearn.ensemble import RandomForestClassifier\n",
    "from sklearn.model_selection import train_test_split\n",
    "from sklearn.metrics import accuracy_score, precision_score, recall_score, f1_score, confusion_matrix\n",
    "import joblib\n",
    "\n",
    "data = pd.read_csv('./data/data_13_2021_ml.csv',index_col=False)\n",
    "data = data.drop('franchiseid',axis=1)\n",
    "# Load dataset\n",
    "# Drop the target column\n",
    "target_column = 'result'\n",
    "features = data.drop(target_column, axis=1)\n",
    "target = data[target_column]\n",
    "\n",
    "# Split the data into training and testing sets\n",
    "X_train, X_test, y_train, y_test = train_test_split(features, target, test_size=0.2, random_state=42)\n",
    "\n",
    "# Random Forest Classifier\n",
    "rf_classifier = RandomForestClassifier(n_estimators=100)\n",
    "rf_classifier.fit(X_train, y_train)\n",
    "rf_predictions = rf_classifier.predict(X_test)\n",
    "\n",
    "# Calculate evaluation metrics\n",
    "accuracy = accuracy_score(y_test, rf_predictions)\n",
    "precision = precision_score(y_test, rf_predictions, average='weighted')\n",
    "recall = recall_score(y_test, rf_predictions, average='weighted')\n",
    "f1 = f1_score(y_test, rf_predictions, average='weighted')\n",
    "confusion_mat = confusion_matrix(y_test, rf_predictions)\n",
    "\n",
    "# Print evaluation metrics and confusion matrix\n",
    "print(\"Evaluation Metrics for Random Forest Classifier:\")\n",
    "print(\"Accuracy:\", accuracy)\n",
    "print(\"Precision:\", precision)\n",
    "print(\"Recall:\", recall)\n",
    "print(\"F1 Score:\", f1)\n",
    "print(\"Confusion Matrix:\")\n",
    "print(confusion_mat)\n",
    "\n",
    "# Save the model to a file\n",
    "model_filename = './data/rf_model_100_trees.pkl'\n",
    "joblib.dump(rf_classifier, model_filename)\n",
    "\n",
    "\n"
   ]
  },
  {
   "cell_type": "code",
   "execution_count": 2,
   "metadata": {},
   "outputs": [
    {
     "name": "stdout",
     "output_type": "stream",
     "text": [
      "              precision    recall  f1-score   support\n",
      "\n",
      "          -1       0.83      0.85      0.84       282\n",
      "           0       0.00      0.00      0.00         4\n",
      "           1       0.84      0.84      0.84       282\n",
      "\n",
      "    accuracy                           0.84       568\n",
      "   macro avg       0.56      0.56      0.56       568\n",
      "weighted avg       0.83      0.84      0.83       568\n",
      "\n"
     ]
    }
   ],
   "source": [
    "import pandas as pd\n",
    "import joblib\n",
    "from sklearn.metrics import classification_report\n",
    "\n",
    "# Load the trained model from the pickle file\n",
    "model = joblib.load('./data/rf_model_100_trees.pkl')\n",
    "\n",
    "# Load the test data\n",
    "test_data = pd.read_csv('./data/data_22_ml.csv',index_col=False)\n",
    "test_data = test_data.drop('franchiseid',axis=1)\n",
    "\n",
    "# Separate features (X_test) and labels (y_test) from the test data\n",
    "target_column = 'result'\n",
    "X_test = test_data.drop(target_column, axis=1)\n",
    "y_test = test_data[target_column]\n",
    "\n",
    "# Make predictions on the test data\n",
    "y_pred = model.predict(X_test)\n",
    "\n",
    "# Evaluate the model\n",
    "print(classification_report(y_test, y_pred))\n",
    "\n"
   ]
  }
 ],
 "metadata": {
  "kernelspec": {
   "display_name": "datascience",
   "language": "python",
   "name": "python3"
  },
  "language_info": {
   "codemirror_mode": {
    "name": "ipython",
    "version": 3
   },
   "file_extension": ".py",
   "mimetype": "text/x-python",
   "name": "python",
   "nbconvert_exporter": "python",
   "pygments_lexer": "ipython3",
   "version": "3.9.16"
  },
  "orig_nbformat": 4
 },
 "nbformat": 4,
 "nbformat_minor": 2
}
